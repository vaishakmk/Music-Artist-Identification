{
 "cells": [
  {
   "cell_type": "code",
   "execution_count": 1,
   "id": "HmibmH77drzm",
   "metadata": {
    "colab": {
     "base_uri": "https://localhost:8080/"
    },
    "id": "HmibmH77drzm",
    "outputId": "e439f586-715b-4436-f0a5-8d11c3ce1f7d"
   },
   "outputs": [
    {
     "name": "stdout",
     "output_type": "stream",
     "text": [
      "Mounted at /content/gdrive\n"
     ]
    }
   ],
   "source": [
    "from google.colab import drive\n",
    "drive.mount('/content/gdrive')"
   ]
  },
  {
   "cell_type": "code",
   "execution_count": 1,
   "id": "y2M36W-CYSj-",
   "metadata": {
    "id": "y2M36W-CYSj-"
   },
   "outputs": [],
   "source": [
    "import json\n",
    "import numpy as np\n",
    "from sklearn.model_selection import train_test_split\n",
    "import tensorflow.keras as keras\n",
    "import matplotlib.pyplot as plt"
   ]
  },
  {
   "cell_type": "code",
   "execution_count": 2,
   "id": "NmgGokaYeX3S",
   "metadata": {
    "id": "NmgGokaYeX3S"
   },
   "outputs": [],
   "source": [
    "# path to json file that stores MFCCs and genre labels for each processed segment\n",
    "DATA_PATH = \"data_5.json\""
   ]
  },
  {
   "cell_type": "code",
   "execution_count": 3,
   "id": "d3cc0206",
   "metadata": {
    "colab": {
     "base_uri": "https://localhost:8080/",
     "height": 1000
    },
    "id": "d3cc0206",
    "outputId": "6dcf2ca3-746d-4a78-9b7b-6f3059bf9f30"
   },
   "outputs": [
    {
     "name": "stderr",
     "output_type": "stream",
     "text": [
      "2022-05-03 17:15:33.427787: I tensorflow/compiler/jit/xla_cpu_device.cc:41] Not creating XLA devices, tf_xla_enable_xla_devices not set\n",
      "2022-05-03 17:15:33.428037: I tensorflow/core/platform/cpu_feature_guard.cc:142] This TensorFlow binary is optimized with oneAPI Deep Neural Network Library (oneDNN) to use the following CPU instructions in performance-critical operations:  AVX2 FMA\n",
      "To enable them in other operations, rebuild TensorFlow with the appropriate compiler flags.\n",
      "2022-05-03 17:15:33.539321: I tensorflow/compiler/mlir/mlir_graph_optimization_pass.cc:116] None of the MLIR optimization passes are enabled (registered 2)\n"
     ]
    },
    {
     "name": "stdout",
     "output_type": "stream",
     "text": [
      "Model: \"sequential\"\n",
      "_________________________________________________________________\n",
      "Layer (type)                 Output Shape              Param #   \n",
      "=================================================================\n",
      "conv2d (Conv2D)              (None, 128, 11, 32)       320       \n",
      "_________________________________________________________________\n",
      "max_pooling2d (MaxPooling2D) (None, 64, 6, 32)         0         \n",
      "_________________________________________________________________\n",
      "batch_normalization (BatchNo (None, 64, 6, 32)         128       \n",
      "_________________________________________________________________\n",
      "conv2d_1 (Conv2D)            (None, 62, 4, 32)         9248      \n",
      "_________________________________________________________________\n",
      "max_pooling2d_1 (MaxPooling2 (None, 31, 2, 32)         0         \n",
      "_________________________________________________________________\n",
      "batch_normalization_1 (Batch (None, 31, 2, 32)         128       \n",
      "_________________________________________________________________\n",
      "conv2d_2 (Conv2D)            (None, 30, 1, 32)         4128      \n",
      "_________________________________________________________________\n",
      "max_pooling2d_2 (MaxPooling2 (None, 15, 1, 32)         0         \n",
      "_________________________________________________________________\n",
      "batch_normalization_2 (Batch (None, 15, 1, 32)         128       \n",
      "_________________________________________________________________\n",
      "flatten (Flatten)            (None, 480)               0         \n",
      "_________________________________________________________________\n",
      "dense (Dense)                (None, 64)                30784     \n",
      "_________________________________________________________________\n",
      "dropout (Dropout)            (None, 64)                0         \n",
      "_________________________________________________________________\n",
      "dense_1 (Dense)              (None, 5)                 325       \n",
      "=================================================================\n",
      "Total params: 45,189\n",
      "Trainable params: 44,997\n",
      "Non-trainable params: 192\n",
      "_________________________________________________________________\n",
      "Epoch 1/30\n",
      "92/92 [==============================] - 3s 30ms/step - loss: 1.8187 - accuracy: 0.3122 - val_loss: 1.7061 - val_accuracy: 0.3238\n",
      "Epoch 2/30\n",
      "92/92 [==============================] - 2s 25ms/step - loss: 1.3151 - accuracy: 0.4963 - val_loss: 1.1931 - val_accuracy: 0.5369\n",
      "Epoch 3/30\n",
      "92/92 [==============================] - 2s 26ms/step - loss: 1.1245 - accuracy: 0.5588 - val_loss: 0.9614 - val_accuracy: 0.6393\n",
      "Epoch 4/30\n",
      "92/92 [==============================] - 3s 27ms/step - loss: 0.9752 - accuracy: 0.6360 - val_loss: 0.8471 - val_accuracy: 0.6940\n",
      "Epoch 5/30\n",
      "92/92 [==============================] - 3s 28ms/step - loss: 0.8940 - accuracy: 0.6637 - val_loss: 0.7645 - val_accuracy: 0.7131\n",
      "Epoch 6/30\n",
      "92/92 [==============================] - 3s 28ms/step - loss: 0.8244 - accuracy: 0.6932 - val_loss: 0.7246 - val_accuracy: 0.7295\n",
      "Epoch 7/30\n",
      "92/92 [==============================] - 3s 29ms/step - loss: 0.7786 - accuracy: 0.7120 - val_loss: 0.6880 - val_accuracy: 0.7336\n",
      "Epoch 8/30\n",
      "92/92 [==============================] - 3s 28ms/step - loss: 0.7065 - accuracy: 0.7306 - val_loss: 0.6431 - val_accuracy: 0.7555\n",
      "Epoch 9/30\n",
      "92/92 [==============================] - 3s 28ms/step - loss: 0.6612 - accuracy: 0.7520 - val_loss: 0.6194 - val_accuracy: 0.7719\n",
      "Epoch 10/30\n",
      "92/92 [==============================] - 3s 28ms/step - loss: 0.6110 - accuracy: 0.7665 - val_loss: 0.6211 - val_accuracy: 0.7664\n",
      "Epoch 11/30\n",
      "92/92 [==============================] - 3s 28ms/step - loss: 0.5688 - accuracy: 0.7856 - val_loss: 0.6050 - val_accuracy: 0.7842\n",
      "Epoch 12/30\n",
      "92/92 [==============================] - 3s 28ms/step - loss: 0.5416 - accuracy: 0.8044 - val_loss: 0.5524 - val_accuracy: 0.7964\n",
      "Epoch 13/30\n",
      "92/92 [==============================] - 3s 27ms/step - loss: 0.5269 - accuracy: 0.8002 - val_loss: 0.5422 - val_accuracy: 0.7992\n",
      "Epoch 14/30\n",
      "92/92 [==============================] - 3s 27ms/step - loss: 0.5291 - accuracy: 0.8111 - val_loss: 0.5292 - val_accuracy: 0.8019\n",
      "Epoch 15/30\n",
      "92/92 [==============================] - 3s 28ms/step - loss: 0.4945 - accuracy: 0.8174 - val_loss: 0.5385 - val_accuracy: 0.7978\n",
      "Epoch 16/30\n",
      "92/92 [==============================] - 3s 28ms/step - loss: 0.4346 - accuracy: 0.8446 - val_loss: 0.4867 - val_accuracy: 0.8238\n",
      "Epoch 17/30\n",
      "92/92 [==============================] - 3s 28ms/step - loss: 0.4283 - accuracy: 0.8381 - val_loss: 0.5246 - val_accuracy: 0.8115\n",
      "Epoch 18/30\n",
      "92/92 [==============================] - 3s 28ms/step - loss: 0.4182 - accuracy: 0.8592 - val_loss: 0.4966 - val_accuracy: 0.8115\n",
      "Epoch 19/30\n",
      "92/92 [==============================] - 3s 29ms/step - loss: 0.4194 - accuracy: 0.8494 - val_loss: 0.5087 - val_accuracy: 0.8197\n",
      "Epoch 20/30\n",
      "92/92 [==============================] - 3s 29ms/step - loss: 0.3940 - accuracy: 0.8629 - val_loss: 0.4641 - val_accuracy: 0.8333\n",
      "Epoch 21/30\n",
      "92/92 [==============================] - 3s 29ms/step - loss: 0.3939 - accuracy: 0.8626 - val_loss: 0.4619 - val_accuracy: 0.8347\n",
      "Epoch 22/30\n",
      "92/92 [==============================] - 3s 29ms/step - loss: 0.3643 - accuracy: 0.8689 - val_loss: 0.4457 - val_accuracy: 0.8456\n",
      "Epoch 23/30\n",
      "92/92 [==============================] - 3s 28ms/step - loss: 0.3506 - accuracy: 0.8723 - val_loss: 0.4547 - val_accuracy: 0.8415\n",
      "Epoch 24/30\n",
      "92/92 [==============================] - 3s 28ms/step - loss: 0.3368 - accuracy: 0.8869 - val_loss: 0.4398 - val_accuracy: 0.8443\n",
      "Epoch 25/30\n",
      "92/92 [==============================] - 3s 28ms/step - loss: 0.3374 - accuracy: 0.8845 - val_loss: 0.4384 - val_accuracy: 0.8429\n",
      "Epoch 26/30\n",
      "92/92 [==============================] - 3s 28ms/step - loss: 0.3330 - accuracy: 0.8965 - val_loss: 0.4467 - val_accuracy: 0.8388\n",
      "Epoch 27/30\n",
      "92/92 [==============================] - 3s 28ms/step - loss: 0.3053 - accuracy: 0.8912 - val_loss: 0.4262 - val_accuracy: 0.8470\n",
      "Epoch 28/30\n",
      "92/92 [==============================] - 3s 28ms/step - loss: 0.2934 - accuracy: 0.8980 - val_loss: 0.4208 - val_accuracy: 0.8470\n",
      "Epoch 29/30\n",
      "92/92 [==============================] - 3s 28ms/step - loss: 0.2696 - accuracy: 0.9079 - val_loss: 0.4087 - val_accuracy: 0.8552\n",
      "Epoch 30/30\n",
      "92/92 [==============================] - 3s 28ms/step - loss: 0.2953 - accuracy: 0.8896 - val_loss: 0.4037 - val_accuracy: 0.8552\n"
     ]
    },
    {
     "data": {
      "image/png": "[encoded data removed]",
      "text/plain": [
       "<Figure size 432x288 with 2 Axes>"
      ]
     },
     "metadata": {
      "needs_background": "light"
     },
     "output_type": "display_data"
    },
    {
     "name": "stdout",
     "output_type": "stream",
     "text": [
      "39/39 - 0s - loss: 0.4629 - accuracy: 0.8328\n",
      "\n",
      "Test accuracy: 0.8327868580818176\n",
      "Target: 4, Predicted label: [4]\n"
     ]
    }
   ],
   "source": [
    "def load_data(data_path):\n",
    "    \"\"\"Loads training dataset from json file.\n",
    "        :param data_path (str): Path to json file containing data\n",
    "        :return X (ndarray): Inputs\n",
    "        :return y (ndarray): Targets\n",
    "    \"\"\"\n",
    "\n",
    "    with open(data_path, \"r\") as fp:\n",
    "        data = json.load(fp)\n",
    "\n",
    "    X = np.array(data[\"mfcc\"])\n",
    "    y = np.array(data[\"labels\"])\n",
    "    return X, y\n",
    "\n",
    "\n",
    "def plot_history(history):\n",
    "    \"\"\"Plots accuracy/loss for training/validation set as a function of the epochs\n",
    "        :param history: Training history of model\n",
    "        :return:\n",
    "    \"\"\"\n",
    "\n",
    "    fig, axs = plt.subplots(2)\n",
    "\n",
    "    # create accuracy sublpot\n",
    "    axs[0].plot(history.history[\"accuracy\"], label=\"train accuracy\")\n",
    "    axs[0].plot(history.history[\"val_accuracy\"], label=\"test accuracy\")\n",
    "    axs[0].set_ylabel(\"Accuracy\")\n",
    "    axs[0].legend(loc=\"lower right\")\n",
    "    axs[0].set_title(\"Accuracy eval\")\n",
    "\n",
    "    # create error sublpot\n",
    "    axs[1].plot(history.history[\"loss\"], label=\"train error\")\n",
    "    axs[1].plot(history.history[\"val_loss\"], label=\"test error\")\n",
    "    axs[1].set_ylabel(\"Error\")\n",
    "    axs[1].set_xlabel(\"Epoch\")\n",
    "    axs[1].legend(loc=\"upper right\")\n",
    "    axs[1].set_title(\"Error eval\")\n",
    "\n",
    "    plt.show()\n",
    "\n",
    "\n",
    "def prepare_datasets(test_size, validation_size):\n",
    "    \"\"\"Loads data and splits it into train, validation and test sets.\n",
    "    :param test_size (float): Value in [0, 1] indicating percentage of data set to allocate to test split\n",
    "    :param validation_size (float): Value in [0, 1] indicating percentage of train set to allocate to validation split\n",
    "    :return X_train (ndarray): Input training set\n",
    "    :return X_validation (ndarray): Input validation set\n",
    "    :return X_test (ndarray): Input test set\n",
    "    :return y_train (ndarray): Target training set\n",
    "    :return y_validation (ndarray): Target validation set\n",
    "    :return y_test (ndarray): Target test set\n",
    "    \"\"\"\n",
    "\n",
    "    # load data\n",
    "    X, y = load_data(DATA_PATH)\n",
    "\n",
    "    # create train, validation and test split\n",
    "    X_train, X_test, y_train, y_test = train_test_split(X, y, test_size=test_size)\n",
    "    X_train, X_validation, y_train, y_validation = train_test_split(X_train, y_train, test_size=validation_size)\n",
    "\n",
    "    # add an axis to input sets\n",
    "    X_train = X_train[..., np.newaxis]\n",
    "    X_validation = X_validation[..., np.newaxis]\n",
    "    X_test = X_test[..., np.newaxis]\n",
    "\n",
    "    return X_train, X_validation, X_test, y_train, y_validation, y_test\n",
    "\n",
    "\n",
    "def build_model(input_shape):\n",
    "    \"\"\"Generates CNN model\n",
    "    :param input_shape (tuple): Shape of input set\n",
    "    :return model: CNN model\n",
    "    \"\"\"\n",
    "\n",
    "    # build network topology\n",
    "    model = keras.Sequential()\n",
    "\n",
    "    # 1st conv layer\n",
    "    model.add(keras.layers.Conv2D(32, (3, 3), activation='relu', input_shape=input_shape))\n",
    "    model.add(keras.layers.MaxPooling2D((3, 3), strides=(2, 2), padding='same'))\n",
    "    model.add(keras.layers.BatchNormalization())\n",
    "\n",
    "    # 2nd conv layer\n",
    "    model.add(keras.layers.Conv2D(32, (3, 3), activation='relu'))\n",
    "    model.add(keras.layers.MaxPooling2D((3, 3), strides=(2, 2), padding='same'))\n",
    "    model.add(keras.layers.BatchNormalization())\n",
    "\n",
    "    # 3rd conv layer\n",
    "    model.add(keras.layers.Conv2D(32, (2, 2), activation='relu'))\n",
    "    model.add(keras.layers.MaxPooling2D((2, 2), strides=(2, 2), padding='same'))\n",
    "    model.add(keras.layers.BatchNormalization())\n",
    "\n",
    "    # flatten output and feed it into dense layer\n",
    "    model.add(keras.layers.Flatten())\n",
    "    model.add(keras.layers.Dense(64, activation='relu'))\n",
    "    model.add(keras.layers.Dropout(0.3))\n",
    "\n",
    "    # output layer\n",
    "    model.add(keras.layers.Dense(5, activation='softmax'))\n",
    "\n",
    "    return model\n",
    "\n",
    "\n",
    "def predict(model, X, y):\n",
    "    \"\"\"Predict a single sample using the trained model\n",
    "    :param model: Trained classifier\n",
    "    :param X: Input data\n",
    "    :param y (int): Target\n",
    "    \"\"\"\n",
    "\n",
    "    # add a dimension to input data for sample - model.predict() expects a 4d array in this case\n",
    "    X = X[np.newaxis, ...] # array shape (1, 130, 13, 1)\n",
    "\n",
    "    # perform prediction\n",
    "    prediction = model.predict(X)\n",
    "\n",
    "    # get index with max value\n",
    "    predicted_index = np.argmax(prediction, axis=1)\n",
    "\n",
    "    print(\"Target: {}, Predicted label: {}\".format(y, predicted_index))\n",
    "\n",
    "\n",
    "if __name__ == \"__main__\":\n",
    "\n",
    "    # get train, validation, test splits\n",
    "    X_train, X_validation, X_test, y_train, y_validation, y_test = prepare_datasets(0.25, 0.2)\n",
    "\n",
    "    # create network\n",
    "    input_shape = (X_train.shape[1], X_train.shape[2], 1)\n",
    "    model = build_model(input_shape)\n",
    "\n",
    "    # compile model\n",
    "    optimiser = keras.optimizers.Adam(learning_rate=0.0001)\n",
    "    model.compile(optimizer=optimiser,\n",
    "                  loss='sparse_categorical_crossentropy',\n",
    "                  metrics=['accuracy'])\n",
    "\n",
    "    model.summary()\n",
    "\n",
    "    # train model\n",
    "    history = model.fit(X_train, y_train, validation_data=(X_validation, y_validation), batch_size=32, epochs=30)\n",
    "\n",
    "    # plot accuracy/error for training and validation\n",
    "    plot_history(history)\n",
    "\n",
    "    # evaluate model on test set\n",
    "    test_loss, test_acc = model.evaluate(X_test, y_test, verbose=2)\n",
    "    print('\\nTest accuracy:', test_acc)\n",
    "\n",
    "    # pick a sample to predict from the test set\n",
    "    X_to_predict = X_test[100]\n",
    "    y_to_predict = y_test[100]\n",
    "\n",
    "    # predict sample\n",
    "    predict(model, X_to_predict, y_to_predict)\n",
    "\n",
    "\n",
    "\n",
    "\n",
    "\n"
   ]
  },
  {
   "cell_type": "code",
   "execution_count": null,
   "id": "DV6FuUJHgZ-Y",
   "metadata": {
    "colab": {
     "base_uri": "https://localhost:8080/"
    },
    "id": "DV6FuUJHgZ-Y",
    "outputId": "30d0ac2e-a9b4-4b1a-d6e7-1c7e557ca450"
   },
   "outputs": [],
   "source": []
  },
  {
   "cell_type": "code",
   "execution_count": null,
   "id": "7rBMkBs1gfyS",
   "metadata": {
    "colab": {
     "base_uri": "https://localhost:8080/"
    },
    "id": "7rBMkBs1gfyS",
    "outputId": "3edda9c3-b647-4cc2-a0be-9e1c6c7d4bca"
   },
   "outputs": [],
   "source": []
  },
  {
   "cell_type": "code",
   "execution_count": null,
   "id": "u4JvJxNIfP9y",
   "metadata": {
    "id": "u4JvJxNIfP9y"
   },
   "outputs": [],
   "source": []
  },
  {
   "cell_type": "code",
   "execution_count": null,
   "id": "dVJFEFerfeic",
   "metadata": {
    "colab": {
     "base_uri": "https://localhost:8080/",
     "height": 973
    },
    "id": "dVJFEFerfeic",
    "outputId": "76a28c04-866c-4d12-863e-fc31134ffbb5"
   },
   "outputs": [],
   "source": []
  },
  {
   "cell_type": "code",
   "execution_count": 138,
   "id": "c02c43d8",
   "metadata": {},
   "outputs": [],
   "source": [
    "import json\n",
    "import os\n",
    "import math\n",
    "import librosa\n",
    "\n",
    "DATASET_PATH = \"data/test_data/maroon5/Maroon5_00110.wav\"\n",
    "JSON_PATH = \"data_test2.json\"\n",
    "SAMPLE_RATE = 22050\n",
    "TRACK_DURATION = 30 # measured in seconds\n",
    "SAMPLES_PER_TRACK = SAMPLE_RATE * TRACK_DURATION\n",
    "\n",
    "\n",
    "def save_mfcc(dataset_path, json_path, num_mfcc=13, n_fft=2048, hop_length=512, num_segments=10):\n",
    "    \"\"\"Extracts MFCCs from music dataset and saves them into a json file along witgh genre labels.\n",
    "\n",
    "        :param dataset_path (str): Path to dataset\n",
    "        :param json_path (str): Path to json file used to save MFCCs\n",
    "        :param num_mfcc (int): Number of coefficients to extract\n",
    "        :param n_fft (int): Interval we consider to apply FFT. Measured in # of samples\n",
    "        :param hop_length (int): Sliding window for FFT. Measured in # of samples\n",
    "        :param: num_segments (int): Number of segments we want to divide sample tracks into\n",
    "        :return:\n",
    "        \"\"\"\n",
    "\n",
    "    # dictionary to store mapping, labels, and MFCCs\n",
    "    data = {\n",
    "        \"mfcc\": []\n",
    "    }\n",
    "\n",
    "    samples_per_segment = int(SAMPLES_PER_TRACK / num_segments)\n",
    "    num_mfcc_vectors_per_segment = math.ceil(samples_per_segment / hop_length)\n",
    "\n",
    "\n",
    "    signal, sample_rate = librosa.load(dataset_path, sr=SAMPLE_RATE)\n",
    "\n",
    "    # process all segments of audio file\n",
    "    for d in range(num_segments):\n",
    "\n",
    "        # calculate start and finish sample for current segment\n",
    "        start = samples_per_segment * d\n",
    "        finish = start + samples_per_segment\n",
    "\n",
    "        # extract mfcc\n",
    "        mfcc = librosa.feature.mfcc(y=signal[start:finish], sr=sample_rate, n_mfcc=num_mfcc, n_fft=n_fft, hop_length=hop_length)\n",
    "        mfcc = mfcc.T\n",
    "\n",
    "        # store only mfcc feature with expected number of vectors\n",
    "        if len(mfcc) == num_mfcc_vectors_per_segment:\n",
    "            data[\"mfcc\"].append(mfcc.tolist())\n",
    "           \n",
    "    return data\n",
    "\n",
    "    # save MFCCs to json file\n",
    "#     with open(json_path, \"w\") as fp:\n",
    "#         json.dump(data, fp, indent=4)\n",
    "        \n",
    "        \n",
    "if __name__ == \"__main__\":\n",
    "    MFCC = save_mfcc(DATASET_PATH, JSON_PATH, num_segments=10)"
   ]
  },
  {
   "cell_type": "code",
   "execution_count": 139,
   "id": "1968df88",
   "metadata": {},
   "outputs": [],
   "source": [
    "# with open('data_test2.json', \"r\") as fp:\n",
    "#         data = json.load(fp)\n",
    "\n",
    "X = np.array(MFCC[\"mfcc\"])\n"
   ]
  },
  {
   "cell_type": "code",
   "execution_count": 140,
   "id": "305d44c5",
   "metadata": {},
   "outputs": [
    {
     "data": {
      "text/plain": [
       "(10, 130, 13)"
      ]
     },
     "execution_count": 140,
     "metadata": {},
     "output_type": "execute_result"
    }
   ],
   "source": [
    "X.shape"
   ]
  },
  {
   "cell_type": "code",
   "execution_count": 141,
   "id": "c2e5b292",
   "metadata": {},
   "outputs": [],
   "source": [
    "X = X[...,np.newaxis]"
   ]
  },
  {
   "cell_type": "code",
   "execution_count": 142,
   "id": "bf3a5167",
   "metadata": {},
   "outputs": [
    {
     "data": {
      "text/plain": [
       "(10, 130, 13, 1)"
      ]
     },
     "execution_count": 142,
     "metadata": {},
     "output_type": "execute_result"
    }
   ],
   "source": [
    "X.shape"
   ]
  },
  {
   "cell_type": "code",
   "execution_count": null,
   "id": "c738a478",
   "metadata": {},
   "outputs": [],
   "source": []
  },
  {
   "cell_type": "code",
   "execution_count": null,
   "id": "f021bb99",
   "metadata": {},
   "outputs": [],
   "source": []
  },
  {
   "cell_type": "code",
   "execution_count": 144,
   "id": "8d620c74",
   "metadata": {},
   "outputs": [
    {
     "name": "stdout",
     "output_type": "stream",
     "text": [
      "[[7.6217964e-02 1.7048381e-02 1.2216528e-01 9.5060691e-02 6.8950766e-01]\n",
      " [2.0650839e-02 2.7609177e-02 2.1065089e-01 4.1840413e-01 3.2268500e-01]\n",
      " [9.7400881e-03 8.5354428e-04 1.7028185e-02 4.0329462e-01 5.6908357e-01]\n",
      " [7.4540563e-02 5.3517446e-02 5.0057773e-02 4.3814978e-01 3.8373449e-01]\n",
      " [1.7635860e-02 8.5504644e-04 1.3573425e-02 4.6758294e-02 9.2117739e-01]\n",
      " [4.1242624e-03 1.2610219e-03 6.0260110e-02 3.1712718e-02 9.0264183e-01]\n",
      " [1.2199113e-02 1.4342010e-03 3.0357695e-01 2.9805997e-01 3.8472974e-01]\n",
      " [1.1030486e-06 2.8660321e-05 8.9572772e-05 9.9894410e-01 9.3661679e-04]\n",
      " [1.0281878e-02 2.5194313e-03 7.5122990e-02 8.7121093e-01 4.0864673e-02]\n",
      " [6.8504196e-03 2.3620124e-03 9.0712206e-03 8.2830387e-01 1.5341246e-01]]\n",
      "[4 3 4 3 4 4 4 3 3 3]\n",
      "Predicted label: maroon5\n"
     ]
    }
   ],
   "source": [
    "prediction = model.predict(X)\n",
    "\n",
    "map = {0:\"brunomars\",\n",
    "       1: \"greenday\",\n",
    "       2:  \"Migos\",\n",
    "       3:  \"Beyonce\",\n",
    "       4:  \"maroon5\"}\n",
    "# get index with max value\n",
    "print(prediction)\n",
    "predicted_index = np.argmax(prediction, axis=1)\n",
    "print(predicted_index)\n",
    "import statistics as st\n",
    "print(\"Predicted label: {}\".format(map[st.mode(predicted_index)]))\n"
   ]
  },
  {
   "cell_type": "code",
   "execution_count": null,
   "id": "6c18b15e",
   "metadata": {},
   "outputs": [],
   "source": []
  },
  {
   "cell_type": "code",
   "execution_count": null,
   "id": "5eff7ee7",
   "metadata": {},
   "outputs": [],
   "source": []
  },
  {
   "cell_type": "code",
   "execution_count": null,
   "id": "c104413e",
   "metadata": {},
   "outputs": [],
   "source": []
  },
  {
   "cell_type": "code",
   "execution_count": null,
   "id": "1153c725",
   "metadata": {},
   "outputs": [],
   "source": []
  },
  {
   "cell_type": "code",
   "execution_count": null,
   "id": "06ac07b3",
   "metadata": {},
   "outputs": [],
   "source": []
  },
  {
   "cell_type": "code",
   "execution_count": null,
   "id": "2aa97daf",
   "metadata": {},
   "outputs": [],
   "source": []
  }
 ],
 "metadata": {
  "accelerator": "TPU",
  "colab": {
   "collapsed_sections": [],
   "machine_shape": "hm",
   "name": "mlp_classifier_CNN.ipynb",
   "provenance": []
  },
  "kernelspec": {
   "display_name": "Python 3.8 (tensorflow)",
   "language": "python",
   "name": "tensorflow"
  },
  "language_info": {
   "codemirror_mode": {
    "name": "ipython",
    "version": 3
   },
   "file_extension": ".py",
   "mimetype": "text/x-python",
   "name": "python",
   "nbconvert_exporter": "python",
   "pygments_lexer": "ipython3",
   "version": "3.8.12"
  }
 },
 "nbformat": 4,
 "nbformat_minor": 5
}
